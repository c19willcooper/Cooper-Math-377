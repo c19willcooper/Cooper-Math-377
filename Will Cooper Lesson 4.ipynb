{
 "cells": [
  {
   "cell_type": "code",
   "execution_count": 1,
   "metadata": {},
   "outputs": [],
   "source": [
    "from datascience import *\n",
    "import numpy as np\n",
    "\n",
    "%matplotlib inline\n",
    "import matplotlib.pyplot as plots\n",
    "plots.style.use('fivethirtyeight')"
   ]
  },
  {
   "cell_type": "markdown",
   "metadata": {},
   "source": [
    "## Question 1"
   ]
  },
  {
   "cell_type": "code",
   "execution_count": 2,
   "metadata": {},
   "outputs": [
    {
     "name": "stdout",
     "output_type": "stream",
     "text": [
      "I am Will Cooper. I am 21 years old. I'm from Austin.\n",
      "will cooper\n",
      "Will Cooper\n"
     ]
    }
   ],
   "source": [
    "name = 'Will Cooper'\n",
    "age = '21'\n",
    "hometown = 'Austin'\n",
    "# assign proper values to given variables\n",
    "\n",
    "phrase = 'I am ' + name + '. I am ' + age + \" years old. I'm from \" + hometown + '.'\n",
    "print(phrase)\n",
    "# create and print the concatinated string\n",
    "\n",
    "lower_name = name.lower()\n",
    "print(lower_name)\n",
    "# make the string lower case\n",
    "\n",
    "proper_name = lower_name.title()\n",
    "print(proper_name)\n",
    "# make the string a proper noun"
   ]
  },
  {
   "cell_type": "markdown",
   "metadata": {},
   "source": [
    "## Question 2"
   ]
  },
  {
   "cell_type": "code",
   "execution_count": 3,
   "metadata": {},
   "outputs": [
    {
     "name": "stdout",
     "output_type": "stream",
     "text": [
      "He is Will Cooper. He is 21 years old. He's from Austin.\n"
     ]
    }
   ],
   "source": [
    "new_phrase = phrase.replace('I am','He is')\n",
    "new_phrase = new_phrase.replace(\"I'm\",\"He's\")\n",
    "# use .replace to edit the strings\n",
    "\n",
    "print(new_phrase)"
   ]
  },
  {
   "cell_type": "markdown",
   "metadata": {},
   "source": [
    "## Question 3"
   ]
  },
  {
   "cell_type": "code",
   "execution_count": 4,
   "metadata": {},
   "outputs": [
    {
     "data": {
      "text/plain": [
       "False"
      ]
     },
     "execution_count": 4,
     "metadata": {},
     "output_type": "execute_result"
    }
   ],
   "source": [
    "comp = int(age) + 40\n",
    "# change age string and add 40\n",
    "\n",
    "len(phrase) >= comp\n",
    "# compare number of characters in string to new number"
   ]
  }
 ],
 "metadata": {
  "kernelspec": {
   "display_name": "Python 3",
   "language": "python",
   "name": "python3"
  },
  "language_info": {
   "codemirror_mode": {
    "name": "ipython",
    "version": 3
   },
   "file_extension": ".py",
   "mimetype": "text/x-python",
   "name": "python",
   "nbconvert_exporter": "python",
   "pygments_lexer": "ipython3",
   "version": "3.6.5"
  }
 },
 "nbformat": 4,
 "nbformat_minor": 2
}
