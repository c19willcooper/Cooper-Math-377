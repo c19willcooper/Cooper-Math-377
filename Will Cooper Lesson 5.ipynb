{
 "cells": [
  {
   "cell_type": "code",
   "execution_count": 1,
   "metadata": {},
   "outputs": [],
   "source": [
    "from datascience import *\n",
    "import numpy as np\n",
    "\n",
    "%matplotlib inline\n",
    "import matplotlib.pyplot as plots\n",
    "plots.style.use('fivethirtyeight')"
   ]
  },
  {
   "cell_type": "code",
   "execution_count": 2,
   "metadata": {},
   "outputs": [
    {
     "name": "stdout",
     "output_type": "stream",
     "text": [
      "['Will' 'Cooper' 'Texas' 'Blue']\n",
      "['WILL' 'COOPER' 'TEXAS' 'BLUE']\n",
      "[0 0 1 0]\n",
      "[5 7 6 5]\n"
     ]
    }
   ],
   "source": [
    "# Question 1\n",
    "from datascience import *\n",
    "strings = make_array('Will','Cooper','Texas','Blue') #Create an array with needed information\n",
    "print(strings)\n",
    "\n",
    "upper_strings = np.char.upper(strings) #Make the array uppercase\n",
    "print(upper_strings)\n",
    "\n",
    "letter_count = np.char.count(strings, 'a') #Count the occurances of 'a' in each string\n",
    "print(letter_count)\n",
    "\n",
    "word_length = np.char.count(strings, '') #Determine the length of each string\n",
    "print(word_length)"
   ]
  },
  {
   "cell_type": "code",
   "execution_count": 3,
   "metadata": {},
   "outputs": [
    {
     "name": "stdout",
     "output_type": "stream",
     "text": [
      "[ 1  5  9 13 17 21 25 29 33 37 41]\n",
      "231\n",
      "7579867420125.0\n",
      "[0.         1.60943791 2.19722458 2.56494936 2.83321334 3.04452244\n",
      " 3.21887582 3.36729583 3.49650756 3.61091791 3.71357207]\n",
      "40\n"
     ]
    }
   ],
   "source": [
    "#Question 2\n",
    "odd_numbers = np.arange(1,45,4) #Create the array with every other odd\n",
    "print(odd_numbers)\n",
    "\n",
    "odd_num_sum = np.sum(odd_numbers) #Sum the array\n",
    "print(odd_num_sum)\n",
    "\n",
    "odd_num_prod = np.prod(odd_numbers.astype(float)) #Determine the product of the array using as type to avoid error\n",
    "print(odd_num_prod)\n",
    "\n",
    "odd_num_log = np.log(odd_numbers) #Take the natural log of each element in the array\n",
    "print(odd_num_log)\n",
    "\n",
    "sum_diff = np.sum(np.diff(odd_numbers)) #Sum the difference of all the elements\n",
    "print(sum_diff)"
   ]
  }
 ],
 "metadata": {
  "kernelspec": {
   "display_name": "Python 3",
   "language": "python",
   "name": "python3"
  },
  "language_info": {
   "codemirror_mode": {
    "name": "ipython",
    "version": 3
   },
   "file_extension": ".py",
   "mimetype": "text/x-python",
   "name": "python",
   "nbconvert_exporter": "python",
   "pygments_lexer": "ipython3",
   "version": "3.6.5"
  }
 },
 "nbformat": 4,
 "nbformat_minor": 2
}
